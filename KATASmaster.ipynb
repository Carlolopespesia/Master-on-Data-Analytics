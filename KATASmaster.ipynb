{
  "nbformat": 4,
  "nbformat_minor": 0,
  "metadata": {
    "colab": {
      "provenance": []
    },
    "kernelspec": {
      "name": "python3",
      "display_name": "Python 3"
    },
    "language_info": {
      "name": "python"
    }
  },
  "cells": [
    {
      "cell_type": "code",
      "execution_count": null,
      "metadata": {
        "colab": {
          "base_uri": "https://localhost:8080/"
        },
        "id": "1VWncp9dHGL5",
        "outputId": "e289785d-aa96-4e99-b4cf-65aee2f84f1a"
      },
      "outputs": [
        {
          "output_type": "execute_result",
          "data": {
            "text/plain": [
              "{'H': 1, 'o': 1, 'l': 1, 'a': 2, 'k': 1, 's': 1, 'e': 1}"
            ]
          },
          "metadata": {},
          "execution_count": 12
        }
      ],
      "source": [
        "''' 1. Escribe una función que reciba una cadena de texto como parámetro y devuelva un diccionario con las frecuencias\n",
        "de cada letra en la cadena. Los espacios no deben ser considerados.'''\n",
        "\n",
        "def cadTexto(texto):\n",
        "  dicionario = {}\n",
        "  for i in texto:\n",
        "    if(i!=\" \"):\n",
        "      c = 0\n",
        "      for j in texto:\n",
        "        if(j==i):\n",
        "          c = c + 1\n",
        "      dicionario[i] = c\n",
        "      c=0\n",
        "  return dicionario;\n",
        "\n",
        "cadTexto(\"Hola k ase\")\n"
      ]
    },
    {
      "cell_type": "code",
      "source": [
        "abc = {\"a\":1, \"b\":22, \"c\":333}\n",
        "list(abc.values())"
      ],
      "metadata": {
        "colab": {
          "base_uri": "https://localhost:8080/"
        },
        "id": "k-muAqCCHNoA",
        "outputId": "abf5b76e-f5f9-410d-d675-210fcfcae9d5"
      },
      "execution_count": null,
      "outputs": [
        {
          "output_type": "execute_result",
          "data": {
            "text/plain": [
              "[1, 22, 333]"
            ]
          },
          "metadata": {},
          "execution_count": 9
        }
      ]
    },
    {
      "cell_type": "code",
      "source": [
        "'''2. Dada una lista de números, obtén una nueva lista con el doble de cada valor. Usa la función map()\n",
        "'''\n",
        "\n",
        "# def doblar(lista):\n",
        "#   jajant = []\n",
        "#   for i in lista:\n",
        "#     jajant.append(i*2)\n",
        "#   return jajant\n",
        "\n",
        "def doblar(e):\n",
        "  return 2*e;\n",
        "\n",
        "abc = [2,3,55, 1]\n",
        "list(map(doblar, abc))"
      ],
      "metadata": {
        "colab": {
          "base_uri": "https://localhost:8080/"
        },
        "id": "FVm8SeI4IfRU",
        "outputId": "e7287167-06df-4634-a72b-4e96f90ce7a2"
      },
      "execution_count": null,
      "outputs": [
        {
          "output_type": "execute_result",
          "data": {
            "text/plain": [
              "[4, 6, 110, 2]"
            ]
          },
          "metadata": {},
          "execution_count": 9
        }
      ]
    },
    {
      "cell_type": "code",
      "source": [
        "'''3. Escribe una función que tome una lista de palabras y una palabra objetivo como parámetros. La función debe\n",
        "devolver una lista con todas las palabras de la lista original que contengan la palabra objetivo.\n",
        "'''\n",
        "\n",
        "def palabrotas(nombre, lista):\n",
        "  lol = []\n",
        "  for i in lista:\n",
        "    if nombre in i:\n",
        "      lol.append(i)\n",
        "  return lol\n",
        "\n",
        "palabrotas(\"aca\", [\"vaca\", \"hospital\", \"maraca\"])\n"
      ],
      "metadata": {
        "colab": {
          "base_uri": "https://localhost:8080/"
        },
        "id": "cwLitBVxreU4",
        "outputId": "aa778113-0135-473b-ad59-5503cbc9047d"
      },
      "execution_count": null,
      "outputs": [
        {
          "output_type": "execute_result",
          "data": {
            "text/plain": [
              "['vaca', 'maraca']"
            ]
          },
          "metadata": {},
          "execution_count": 1
        }
      ]
    },
    {
      "cell_type": "code",
      "source": [
        "'''4. Genera una función que calcule la diferencia entre los valores de dos listas. Usa la función map()\n",
        "'''\n",
        "\n",
        "lista1 = [33, 46, 21]\n",
        "lista2 = [98, 65, 2]\n",
        "\n",
        "def diferencia(e1, e2):\n",
        "  return abs(e1-e2)\n",
        "\n",
        "list(map(diferencia, lista1, lista2))"
      ],
      "metadata": {
        "colab": {
          "base_uri": "https://localhost:8080/"
        },
        "id": "ExVtTHE3xM68",
        "outputId": "f99ee30a-2439-4aca-e5ae-e1407d2efe1f"
      },
      "execution_count": null,
      "outputs": [
        {
          "output_type": "execute_result",
          "data": {
            "text/plain": [
              "[65, 19, 19]"
            ]
          },
          "metadata": {},
          "execution_count": 12
        }
      ]
    },
    {
      "cell_type": "code",
      "source": [
        " '''5. Ecribe una función que tome una lista de números como parámetro y un valor opcional nota_aprobado, que por\n",
        "defecto es 5. La función debe calcular la media de los números en la lista y determinar si la media es mayor o igual\n",
        "que nota aprobado. Si es así, el estado será \"aprobado\", de lo contrario, será \"suspenso\". La función debe devolver\n",
        "una tupla que contenga la media y el estado'''\n",
        "\n",
        "def notitas(listaNotas, aprobado=5):\n",
        "  notaTotal = 0\n",
        "  for i in listaNotas:\n",
        "    notaTotal=notaTotal+i\n",
        "  media = notaTotal/len(listaNotas)\n",
        "  if(media>=5):\n",
        "    estado = \"aprobado\"\n",
        "  else:\n",
        "    estado = \"suspenso\"\n",
        "\n",
        "  return (media, estado)\n",
        "\n",
        "notitas([5,6,8,2,3,1])"
      ],
      "metadata": {
        "colab": {
          "base_uri": "https://localhost:8080/"
        },
        "id": "T6dPAGz4yWzz",
        "outputId": "29377cf4-9d1f-4ae7-faa4-ebefc82a5452"
      },
      "execution_count": null,
      "outputs": [
        {
          "output_type": "execute_result",
          "data": {
            "text/plain": [
              "(4.166666666666667, 'suspenso')"
            ]
          },
          "metadata": {},
          "execution_count": 4
        }
      ]
    },
    {
      "cell_type": "code",
      "source": [
        "'''6. Escribe una función que calcule el factorial de un número de manera recursiva.\n",
        "'''\n",
        "\n",
        "def factorial(numero):\n",
        "  if(numero==0):\n",
        "    return 1\n",
        "  else:\n",
        "    return numero*factorial(numero-1)\n",
        "\n",
        "factorial(5)\n"
      ],
      "metadata": {
        "colab": {
          "base_uri": "https://localhost:8080/"
        },
        "id": "OXVkt-ynqjyy",
        "outputId": "4a06adf2-17ae-46aa-8bab-250567cd6a12"
      },
      "execution_count": null,
      "outputs": [
        {
          "output_type": "execute_result",
          "data": {
            "text/plain": [
              "120"
            ]
          },
          "metadata": {},
          "execution_count": 9
        }
      ]
    },
    {
      "cell_type": "code",
      "source": [
        "'''7. Genera una función que convierta una lista de tuplas a una lista de strings. Usa la función map()\n",
        "'''\n",
        "\n",
        "def convertidor(e):\n",
        "  return str(e)\n",
        "\n",
        "list(map(convertidor, [(2,4,6), (4,\"a\",7.8), (\"a\", \"b\", \"c\")]))"
      ],
      "metadata": {
        "colab": {
          "base_uri": "https://localhost:8080/"
        },
        "id": "5WUKm7WurHJD",
        "outputId": "b1709a33-051d-4e2b-c881-e320ed3884eb"
      },
      "execution_count": null,
      "outputs": [
        {
          "output_type": "execute_result",
          "data": {
            "text/plain": [
              "['(2, 4, 6)', \"(4, 'a', 7.8)\", \"('a', 'b', 'c')\"]"
            ]
          },
          "metadata": {},
          "execution_count": 11
        }
      ]
    },
    {
      "cell_type": "code",
      "source": [
        "'''8. Escribe un programa que pida al usuario dos números e intente dividirlos. Si el usuario ingresa un valor no numérico\n",
        "o intenta dividir por cero, maneja esas excepciones de manera adecuada. Asegúrate de mostrar un mensaje\n",
        "indicando si la división fue exitosa o no.\n",
        "'''\n",
        "\n",
        "print(\"Programa de división\")\n",
        "n1 = input(\"Introduce el primer número: \")\n",
        "n2 = input(\"Introduce el segundo número: \")\n",
        "\n",
        "try:\n",
        "    num1 = float(n1)\n",
        "    num2 = float(n2)\n",
        "\n",
        "    division = num1 / num2\n",
        "    print(f\"El resultado es {division} y se ha calculado sin problemas\")\n",
        "except ValueError:\n",
        "    print(\"Error: Debes introducir números válidos.\")\n",
        "except ZeroDivisionError:\n",
        "    print(\"Has intentado dividir un número por cero y no se puede\")\n",
        "except TypeError:\n",
        "    print(\"Un error inesperado ocurrió con los tipos de datos.\")"
      ],
      "metadata": {
        "colab": {
          "base_uri": "https://localhost:8080/"
        },
        "id": "xJAHJv4YssnZ",
        "outputId": "4d68ce8c-759d-4b4c-f948-e509b0d875fe"
      },
      "execution_count": null,
      "outputs": [
        {
          "output_type": "stream",
          "name": "stdout",
          "text": [
            "Programa de división\n",
            "Introduce el primer número: 1\n",
            "Introduce el segundo número: 2\n",
            "El resultado es 0.5 y se ha calculado sin problemas\n"
          ]
        }
      ]
    },
    {
      "cell_type": "code",
      "source": [
        "'''9. Escribe una función que tome una lista de nombres de mascotas como parámetro y devuelva una nueva lista\n",
        "excluyendo ciertas mascotas prohibidas en España. La lista de mascotas a excluir es [\"Mapache\", \"Tigre\",\n",
        "\"Serpiente Pitón\", \"Cocodrilo\", \"Oso\"].Usa la función filter()'''\n",
        "\n",
        "def es_par(numero):\n",
        "  return numero % 2 == 0\n",
        "\n",
        "numeros = [1, 2, 3, 4, 5, 6, 7, 8, 9, 10]\n",
        "\n",
        "# Aquí se ve clara la diferencia entre las dos funciones\n",
        "print(list(map(es_par, numeros)))\n",
        "print(list(filter(es_par, numeros)))\n",
        "\n",
        "#Así el ejercicio:\n",
        "\n",
        "def prohibicion(e):\n",
        "  if e == \"Mapache\" or e==\"Tigre\" or e==\"Serpiente Pitón\" or e==\"Cocodrilo\" or e==\"Oso\":\n",
        "    return False\n",
        "  else:\n",
        "    return True\n",
        "\n",
        "Animales = [\"Mapache\", \"Tigre\", \"Serpiente Pitón\", \"Cocodrilo\", \"Oso\", \"Gato\", \"Perro\", \"Pez\", \"Saltamontes\"]\n",
        "\n",
        "list(filter(prohibicion, Animales))"
      ],
      "metadata": {
        "colab": {
          "base_uri": "https://localhost:8080/"
        },
        "id": "H08KJj8XtzZ4",
        "outputId": "6a63def0-33af-4141-dec9-1dbb91c92229"
      },
      "execution_count": null,
      "outputs": [
        {
          "output_type": "stream",
          "name": "stdout",
          "text": [
            "[False, True, False, True, False, True, False, True, False, True]\n",
            "[2, 4, 6, 8, 10]\n"
          ]
        },
        {
          "output_type": "execute_result",
          "data": {
            "text/plain": [
              "['Gato', 'Perro', 'Pez', 'Saltamontes']"
            ]
          },
          "metadata": {},
          "execution_count": 5
        }
      ]
    },
    {
      "cell_type": "code",
      "source": [
        "'''10. Escribe una función que reciba una lista de números y calcule su promedio. Si la lista está vacía, lanza una\n",
        "excepción personalizada y maneja el error adecuadamente.\n",
        "'''\n",
        "import statistics # Import the statistics module for mean calculation\n",
        "\n",
        "# Define a custom exception class\n",
        "class ListaVaciaError(Exception):\n",
        "    \"\"\"Excepción personalizada para cuando la lista de números está vacía.\"\"\"\n",
        "    def __init__(self, message=\"La lista de números no puede estar vacía para calcular el promedio.\"):\n",
        "        self.message = message\n",
        "        super().__init__(self.message)\n",
        "\n",
        "def calcular_promedio(lista):\n",
        "  \"\"\"\n",
        "  Calcula el promedio de una lista de números.\n",
        "\n",
        "  Args:\n",
        "    lista: Una lista de números.\n",
        "\n",
        "  Returns:\n",
        "    El promedio de los números en la lista.\n",
        "\n",
        "  Raises:\n",
        "    ListaVaciaError: Si la lista proporcionada está vacía.\n",
        "  \"\"\"\n",
        "  try:\n",
        "    # Use statistics.mean() to calculate the average\n",
        "    # statistics.mean will raise a statistics.StatisticsError if the list is empty\n",
        "    promedio = statistics.mean(lista)\n",
        "    return promedio\n",
        "  except statistics.StatisticsError as e:\n",
        "    # Catch the specific error raised by statistics.mean for an empty list\n",
        "    # Then, raise your custom exception\n",
        "    raise ListaVaciaError(\"La lista de números está vacía y no se puede calcular el promedio.\")\n",
        "  except TypeError:\n",
        "    # Optional: Catch if elements are not numeric\n",
        "    raise TypeError(\"La lista debe contener solo números para calcular el promedio.\")\n",
        "\n",
        "# --- Manejo del error fuera de la función ---\n",
        "\n",
        "# Ejemplo de uso con una lista vacía\n",
        "print(\"Intentando calcular el promedio de una lista vacía:\")\n",
        "try:\n",
        "    resultado = calcular_promedio([])\n",
        "    print(f\"El promedio es: {resultado}\")\n",
        "except ListaVaciaError as e:\n",
        "    print(f\"Error detectado: {e.message}\") # Access the message from the custom exception\n",
        "\n",
        "print(\"\\nIntentando calcular el promedio de una lista con números:\")\n",
        "try:\n",
        "    resultado = calcular_promedio([10, 20, 30, 40, 50])\n",
        "    print(f\"El promedio es: {resultado}\")\n",
        "except ListaVaciaError as e:\n",
        "    print(f\"Error detectado: {e.message}\")\n",
        "\n",
        "print(\"\\nIntentando calcular el promedio de una lista con elementos no numéricos:\")\n",
        "try:\n",
        "    resultado = calcular_promedio([1, 2, 'a', 4])\n",
        "    print(f\"El promedio es: {resultado}\")\n",
        "except TypeError as e:\n",
        "    print(f\"Error detectado: {e}\")\n",
        "except ListaVaciaError as e:\n",
        "    print(f\"Error detectado: {e.message}\")"
      ],
      "metadata": {
        "id": "1K1xRvpOu4Zp"
      },
      "execution_count": null,
      "outputs": []
    },
    {
      "cell_type": "code",
      "source": [
        "'''11. Escribe un programa que pida al usuario que introduzca su edad. Si el usuario ingresa un valor no numérico o un\n",
        "valor fuera del rango esperado (por ejemplo, menor que 0 o mayor que 120), maneja las excepciones\n",
        "adecuadamente.'''\n",
        "\n",
        "try:\n",
        "  edad = int(input('Introduzca su edad: '))\n",
        "  if 0<=edad<=120:\n",
        "    print(f'Su edad es {edad}')\n",
        "  else:\n",
        "    print('Su edad está fuera de rango')\n",
        "except ValueError:\n",
        "  print('Lo introducido debe ser un número entero...')"
      ],
      "metadata": {
        "id": "wFVTZPqaJyHG",
        "colab": {
          "base_uri": "https://localhost:8080/"
        },
        "outputId": "0601b9fd-db81-41d8-e0c8-658345ef2e45"
      },
      "execution_count": 7,
      "outputs": [
        {
          "output_type": "stream",
          "name": "stdout",
          "text": [
            "Introduzca su edad: dfkjgh\n",
            "Lo introducido debe ser un número entero...\n"
          ]
        }
      ]
    },
    {
      "cell_type": "markdown",
      "source": [
        "12. Genera una función que al recibir una frase devuelva una lista con la longitud de cada palabra. Usa la función map()"
      ],
      "metadata": {
        "id": "VTNMDmBgVkjY"
      }
    },
    {
      "cell_type": "code",
      "source": [
        "'''12. Genera una función que al recibir una frase devuelva una lista con la longitud de cada palabra. Usa la función map()'''\n",
        "\n",
        "def longitud_palabras(frase):\n",
        "\n",
        "  palabras = frase.split()\n",
        "  return list(map(len, palabras))\n",
        "\n",
        "# Ejemplo de uso\n",
        "frase_ejemplo = \"Hola k ase\"\n",
        "longitudes = longitud_palabras(frase_ejemplo)\n",
        "print(longitudes)"
      ],
      "metadata": {
        "colab": {
          "base_uri": "https://localhost:8080/"
        },
        "id": "CBnILOSMXN9_",
        "outputId": "db048213-0be8-4895-91eb-ddf63723aa88"
      },
      "execution_count": 8,
      "outputs": [
        {
          "output_type": "stream",
          "name": "stdout",
          "text": [
            "[4, 1, 3]\n"
          ]
        }
      ]
    },
    {
      "cell_type": "code",
      "source": [
        "'''13. Genera una función la cual, para un conjunto de caracteres, devuelva una lista de tuplas con cada letra en\n",
        "mayúsculas y minúsculas. Las letras no pueden estar repetidas .Usa la función map()\n",
        "'''\n",
        "texto = 'Hola k ase, esto es un abecedario ABC...H...'\n",
        "\n",
        "def lol(e):\n",
        "  if(e!=' '):\n",
        "    return (e.upper(), e.lower())\n",
        "\n",
        "lista = list(map(lol, texto))\n",
        "\n",
        "for i in lista:\n",
        "  if i == None:\n",
        "    lista.remove(i)\n",
        "\n",
        "print(set(lista))"
      ],
      "metadata": {
        "colab": {
          "base_uri": "https://localhost:8080/"
        },
        "id": "VVn7b1MJXh7a",
        "outputId": "8b581ca9-6221-4ef8-d68b-8c14bb10e2c1"
      },
      "execution_count": 24,
      "outputs": [
        {
          "output_type": "stream",
          "name": "stdout",
          "text": [
            "{('S', 's'), ('T', 't'), ('B', 'b'), ('C', 'c'), (',', ','), ('D', 'd'), ('O', 'o'), ('.', '.'), ('L', 'l'), ('A', 'a'), ('I', 'i'), ('N', 'n'), ('U', 'u'), ('H', 'h'), ('R', 'r'), ('E', 'e'), ('K', 'k')}\n"
          ]
        }
      ]
    },
    {
      "cell_type": "code",
      "source": [
        "'''14. Crea una función que retorne las palabras de una lista de palabras que comience con una letra en especifico. Usa la\n",
        "función filter()\n",
        "'''\n",
        "\n",
        "def filtrar_palabras_por_letra(lista_palabras, letra):\n",
        "\n",
        "  return list(filter(lambda palabra: palabra.startswith(letra), lista_palabras))\n",
        "\n",
        "lista_de_ejemplo = [\"manzana\", \"banana\", \"pera\", \"mango\", \"uva\"]\n",
        "letra_filtro = \"m\"\n",
        "\n",
        "palabras_filtradas = filtrar_palabras_por_letra(lista_de_ejemplo, letra_filtro)\n",
        "print(palabras_filtradas)  # Salida: ['manzana', 'mango']"
      ],
      "metadata": {
        "colab": {
          "base_uri": "https://localhost:8080/"
        },
        "id": "aHzJilgmXlqf",
        "outputId": "f2488d02-ec10-4ae9-8066-1fbe66fe372e"
      },
      "execution_count": 26,
      "outputs": [
        {
          "output_type": "stream",
          "name": "stdout",
          "text": [
            "['manzana', 'mango']\n"
          ]
        }
      ]
    },
    {
      "cell_type": "code",
      "source": [
        "'''15. Crea una función lambda que sume 3 a cada número de una lista dada.'''\n",
        "\n",
        "numeros = [1, 2, 3, 4, 5]\n",
        "sumar_tres = lambda x: x + 3\n",
        "numeros_modificados = list(map(sumar_tres, numeros))\n",
        "print(numeros_modificados)\n"
      ],
      "metadata": {
        "colab": {
          "base_uri": "https://localhost:8080/"
        },
        "id": "ZvFJPOdhbl6X",
        "outputId": "73fad5d5-84cf-4a9b-fb28-4daf736cf2e0"
      },
      "execution_count": 27,
      "outputs": [
        {
          "output_type": "stream",
          "name": "stdout",
          "text": [
            "[4, 5, 6, 7, 8]\n"
          ]
        }
      ]
    },
    {
      "cell_type": "code",
      "source": [
        "'''16. Escribe una función que tome una cadena de texto y un número entero n como parámetros y devuelva una lista de\n",
        "todas las palabras que sean más largas que n. Usa la función filter()\n",
        "'''\n",
        "\n",
        "def es_mas_larga_que(n):\n",
        "  def filtro_longitud(palabra):\n",
        "    return len(palabra) > n\n",
        "  return filtro_longitud\n",
        "\n",
        "cadena = 'Hola, que tal. A ver si superamos el número designado'\n",
        "n = 5\n",
        "\n",
        "list(filter(es_mas_larga_que(n), cadena.split()))"
      ],
      "metadata": {
        "colab": {
          "base_uri": "https://localhost:8080/"
        },
        "id": "UtlyQKFYnGSt",
        "outputId": "ff90eacc-ed1b-49fa-9c23-32a44c99fbff"
      },
      "execution_count": 4,
      "outputs": [
        {
          "output_type": "execute_result",
          "data": {
            "text/plain": [
              "['superamos', 'número', 'designado']"
            ]
          },
          "metadata": {},
          "execution_count": 4
        }
      ]
    },
    {
      "cell_type": "code",
      "source": [
        "'''17. Crea una función que tome una lista de dígitos y devuelva el número correspondiente. Por ejemplo, [5,7,2]\n",
        "corresponde al número quinientos setenta y dos (572). Usa la función reduce()'''\n",
        "\n",
        "from functools import reduce\n",
        "\n",
        "def simplon(a, b):\n",
        "  return str(a)+str(b)\n",
        "\n",
        "lista = [5,3,7]\n",
        "\n",
        "reduce(simplon, lista)"
      ],
      "metadata": {
        "colab": {
          "base_uri": "https://localhost:8080/",
          "height": 35
        },
        "id": "NgaVDZQuKVh8",
        "outputId": "f98a13a8-648e-45ca-8f49-ef5fab89fd92"
      },
      "execution_count": 4,
      "outputs": [
        {
          "output_type": "execute_result",
          "data": {
            "text/plain": [
              "'537'"
            ],
            "application/vnd.google.colaboratory.intrinsic+json": {
              "type": "string"
            }
          },
          "metadata": {},
          "execution_count": 4
        }
      ]
    },
    {
      "cell_type": "code",
      "source": [
        "'''18. Escribe un programa en Python que cree una lista de diccionarios que contenga información de estudiantes\n",
        "(nombre, edad, calificación) y use la función filter para extraer a los estudiantes con una calificación mayor o igual a\n",
        "90. Usa la función filter()'''\n",
        "\n",
        "nombres = ['Carlos', 'Pedro', 'Juan']\n",
        "edades = [25, 22, 23]\n",
        "calificaciones = [68, 93, 45]\n",
        "\n",
        "lista = []\n",
        "\n",
        "if len(nombres)==len(edades) and len(nombres)==len(calificaciones):\n",
        "  for i in range(len(nombres)):\n",
        "    lista.append({nombres[i]:[edades[i], calificaciones[i]]})\n",
        "\n",
        "def comprobar(e):\n",
        "    for i in nombres:\n",
        "        if i in e and e[i][1] >= 90:\n",
        "            return True\n",
        "    return False\n",
        "\n",
        "list(filter(comprobar, lista))"
      ],
      "metadata": {
        "colab": {
          "base_uri": "https://localhost:8080/"
        },
        "id": "6kwdo1REx92O",
        "outputId": "8a0630d0-188a-48c2-8a31-6eb9e20ced54"
      },
      "execution_count": 8,
      "outputs": [
        {
          "output_type": "execute_result",
          "data": {
            "text/plain": [
              "[{'Pedro': [22, 93]}]"
            ]
          },
          "metadata": {},
          "execution_count": 8
        }
      ]
    },
    {
      "cell_type": "code",
      "source": [
        "'''19. Crea una función lambda que filtre los números impares de una lista dada.'''\n",
        "\n",
        "lista = [3,5,8,9,22,43]\n",
        "\n",
        "list(filter(lambda x:x%2!=0, lista))"
      ],
      "metadata": {
        "colab": {
          "base_uri": "https://localhost:8080/"
        },
        "id": "z4dJmk611dPT",
        "outputId": "06f65110-29e0-4d37-ab3a-dc95e9f2ae38"
      },
      "execution_count": 10,
      "outputs": [
        {
          "output_type": "execute_result",
          "data": {
            "text/plain": [
              "[3, 5, 9, 43]"
            ]
          },
          "metadata": {},
          "execution_count": 10
        }
      ]
    },
    {
      "cell_type": "code",
      "source": [
        "'''20. Para una lista con elementos tipo integer y string obtén una nueva lista sólo con los valores int. Usa la función\n",
        "filter()'''\n",
        "\n",
        "items = [3, 5, 6, 'Carlos', 4, 'Cadena', '666']\n",
        "\n",
        "list(filter(lambda x: type(x)==int, items))"
      ],
      "metadata": {
        "colab": {
          "base_uri": "https://localhost:8080/"
        },
        "id": "Y1S2hcDx4ZH8",
        "outputId": "cc97b0f0-9325-4d49-bc2f-62b18a34d799"
      },
      "execution_count": 12,
      "outputs": [
        {
          "output_type": "execute_result",
          "data": {
            "text/plain": [
              "[3, 5, 6, 4]"
            ]
          },
          "metadata": {},
          "execution_count": 12
        }
      ]
    },
    {
      "cell_type": "code",
      "source": [
        "'''21. Crea una función que calcule el cubo de un número dado mediante una función lambda'''\n",
        "\n",
        "cubo = lambda x: x**3\n",
        "\n",
        "cubo(4)"
      ],
      "metadata": {
        "colab": {
          "base_uri": "https://localhost:8080/"
        },
        "id": "Jqrw_qxF4t-m",
        "outputId": "5aab0d2c-5c31-4fd2-93a3-554418dfedd1"
      },
      "execution_count": 17,
      "outputs": [
        {
          "output_type": "execute_result",
          "data": {
            "text/plain": [
              "64"
            ]
          },
          "metadata": {},
          "execution_count": 17
        }
      ]
    },
    {
      "cell_type": "code",
      "source": [
        "'''22. Dada una lista numérica, obtén el producto total de los valores de dicha lista.Usa la función reduce() .'''\n",
        "\n",
        "from functools import reduce\n",
        "\n",
        "\n",
        "numeros = [4, 5, 3.3, 77]\n",
        "\n",
        "def producto(a,b):\n",
        "  return a*b\n",
        "\n",
        "reduce(producto, numeros)"
      ],
      "metadata": {
        "colab": {
          "base_uri": "https://localhost:8080/"
        },
        "id": "l3VtPwh95YDF",
        "outputId": "1b752e6f-ff1e-4ab4-b72d-21a3d947059e"
      },
      "execution_count": 21,
      "outputs": [
        {
          "output_type": "execute_result",
          "data": {
            "text/plain": [
              "5082.0"
            ]
          },
          "metadata": {},
          "execution_count": 21
        }
      ]
    },
    {
      "cell_type": "code",
      "source": [
        "'''23. Concatena una lista de palabras.Usa la función reduce() .\n",
        "'''\n",
        "\n",
        "from functools import reduce\n",
        "\n",
        "palabras = ['Carlos', 'Árbol', 'Canape', 'bola']\n",
        "\n",
        "def juntar(a,b):\n",
        "  return a+b\n",
        "\n",
        "reduce(juntar, palabras)"
      ],
      "metadata": {
        "colab": {
          "base_uri": "https://localhost:8080/",
          "height": 35
        },
        "id": "6bnLmZks6C6J",
        "outputId": "d7edb9a5-27ee-4169-833d-93f2f12f8a5a"
      },
      "execution_count": 20,
      "outputs": [
        {
          "output_type": "execute_result",
          "data": {
            "text/plain": [
              "'CarlosÁrbolCanapebola'"
            ],
            "application/vnd.google.colaboratory.intrinsic+json": {
              "type": "string"
            }
          },
          "metadata": {},
          "execution_count": 20
        }
      ]
    },
    {
      "cell_type": "code",
      "source": [
        "'''24. Calcula la diferencia total en los valores de una lista. Usa la función reduce() .\n",
        "'''\n",
        "\n",
        "'''22. Dada una lista numérica, obtén el producto total de los valores de dicha lista.Usa la función reduce() .'''\n",
        "\n",
        "from functools import reduce\n",
        "\n",
        "\n",
        "numeros = [4, 5, 3.3, 77]\n",
        "\n",
        "def producto(a,b):\n",
        "  return a-b\n",
        "\n",
        "reduce(producto, numeros)"
      ],
      "metadata": {
        "colab": {
          "base_uri": "https://localhost:8080/"
        },
        "id": "Fh2oL11b6ayP",
        "outputId": "5362e5cc-c199-4bfd-d51a-94a2a427af75"
      },
      "execution_count": 22,
      "outputs": [
        {
          "output_type": "execute_result",
          "data": {
            "text/plain": [
              "-81.3"
            ]
          },
          "metadata": {},
          "execution_count": 22
        }
      ]
    },
    {
      "cell_type": "code",
      "source": [
        "'''25. Crea una función que cuente el número de caracteres en una cadena de texto dada.'''\n",
        "\n",
        "cadena = 'Hola, a ver que tal el tiempo, no me gusta...'\n",
        "\n",
        "def contar(texto):\n",
        "  return len(texto)\n",
        "\n",
        "contar(cadena)"
      ],
      "metadata": {
        "colab": {
          "base_uri": "https://localhost:8080/"
        },
        "id": "JfT8XUzc6sQ_",
        "outputId": "f99c3a9c-85a0-4857-b8a6-26e8b2833101"
      },
      "execution_count": 23,
      "outputs": [
        {
          "output_type": "execute_result",
          "data": {
            "text/plain": [
              "45"
            ]
          },
          "metadata": {},
          "execution_count": 23
        }
      ]
    },
    {
      "cell_type": "code",
      "source": [
        "'''26. Crea una función lambda que calcule el resto de la división entre dos números dados.\n",
        "'''\n",
        "\n",
        "division = lambda x,y: x%y\n",
        "\n",
        "division(5,3)"
      ],
      "metadata": {
        "colab": {
          "base_uri": "https://localhost:8080/"
        },
        "id": "Mo7-etYI650d",
        "outputId": "9131683f-ae6b-4502-d73c-8ed9f606ac40"
      },
      "execution_count": 24,
      "outputs": [
        {
          "output_type": "execute_result",
          "data": {
            "text/plain": [
              "2"
            ]
          },
          "metadata": {},
          "execution_count": 24
        }
      ]
    },
    {
      "cell_type": "code",
      "source": [],
      "metadata": {
        "id": "5ADgNgay7e0t"
      },
      "execution_count": null,
      "outputs": []
    },
    {
      "cell_type": "code",
      "source": [
        "'''27. Crea una función que calcule el promedio de una lista de números.\n",
        "'''\n",
        "\n",
        "lista = [5,6,7,8,3,4,6]\n",
        "\n",
        "def promedio(lista):\n",
        "  suma = 0\n",
        "  for i in lista:\n",
        "    suma+=i\n",
        "  return suma/len(lista)\n",
        "\n",
        "print(promedio(lista))"
      ],
      "metadata": {
        "colab": {
          "base_uri": "https://localhost:8080/"
        },
        "id": "Kw97Uj6u7GMN",
        "outputId": "821782ec-8cbe-49ae-cb60-aabf9e5074f2"
      },
      "execution_count": 30,
      "outputs": [
        {
          "output_type": "stream",
          "name": "stdout",
          "text": [
            "5.571428571428571\n"
          ]
        }
      ]
    },
    {
      "cell_type": "code",
      "source": [
        "'''28. Crea una función que busque y devuelva el primer elemento duplicado en una lista dada.\n",
        "'''\n",
        "\n",
        "lista = [2,4,6,8,3,3,2]\n",
        "\n",
        "def duplicado(lista):\n",
        "  origen = []\n",
        "  for i in lista:\n",
        "    if i in origen:\n",
        "      return i\n",
        "    else:\n",
        "      origen.append(i)\n",
        "\n",
        "duplicado(lista)"
      ],
      "metadata": {
        "colab": {
          "base_uri": "https://localhost:8080/"
        },
        "id": "knmZ2eGx7Yu4",
        "outputId": "1fcbcbba-4f21-4c75-d888-fbf57e3a5c93"
      },
      "execution_count": 31,
      "outputs": [
        {
          "output_type": "execute_result",
          "data": {
            "text/plain": [
              "3"
            ]
          },
          "metadata": {},
          "execution_count": 31
        }
      ]
    },
    {
      "cell_type": "code",
      "source": [
        "'''29. Crea una función que convierta una variable en una cadena de texto y enmascare todos los caracteres con el\n",
        "carácter '#', excepto los últimos cuatro.\n",
        "'''\n",
        "\n",
        "def convertidor(e):\n",
        "  texto = str(e)\n",
        "  textoNuevo = ''\n",
        "  for i in range(1, len(texto)+1):\n",
        "    if i<(len(texto)-3):\n",
        "      textoNuevo +=texto[i-1]\n",
        "    else:\n",
        "      textoNuevo += '#'\n",
        "  return textoNuevo\n",
        "\n",
        "lol = 'Hola, quiero verte por casa hoy'\n",
        "\n",
        "convertidor(lol)"
      ],
      "metadata": {
        "colab": {
          "base_uri": "https://localhost:8080/",
          "height": 35
        },
        "id": "J_vtzARz8MYp",
        "outputId": "d612e9e4-68b6-47c0-8b5d-744670b41013"
      },
      "execution_count": 40,
      "outputs": [
        {
          "output_type": "execute_result",
          "data": {
            "text/plain": [
              "'Hola, quiero verte por casa####'"
            ],
            "application/vnd.google.colaboratory.intrinsic+json": {
              "type": "string"
            }
          },
          "metadata": {},
          "execution_count": 40
        }
      ]
    },
    {
      "cell_type": "code",
      "source": [
        "'''30. Crea una función que determine si dos palabras son anagramas, es decir, si están formadas por las mismas letras\n",
        "pero en diferente orden.'''\n",
        "\n",
        "def anagramas(palabra1, palabra2):\n",
        "  lista1 = []\n",
        "  lista2 = []\n",
        "  for i in palabra1:\n",
        "    lista1.append(i)\n",
        "  for j in palabra2:\n",
        "    lista2.append(j)\n",
        "  lista1.sort()\n",
        "  lista2.sort()\n",
        "  return lista1==lista2\n",
        "\n",
        "anagramas('casa', 'saca')"
      ],
      "metadata": {
        "colab": {
          "base_uri": "https://localhost:8080/"
        },
        "id": "be0zBUCZ9SWG",
        "outputId": "369c53ef-6c24-44e2-f444-764d0c5c739e"
      },
      "execution_count": 48,
      "outputs": [
        {
          "output_type": "execute_result",
          "data": {
            "text/plain": [
              "True"
            ]
          },
          "metadata": {},
          "execution_count": 48
        }
      ]
    },
    {
      "cell_type": "code",
      "source": [
        "'''31. Crea una función que solicite al usuario ingresar una lista de nombres y luego solicite un nombre para buscar en\n",
        "esa lista. Si el nombre está en la lista, se imprime un mensaje indicando que fue encontrado, de lo contrario, se\n",
        "lanza una excepción'''\n",
        "\n",
        "def buscar():\n",
        "  print('Inserta una lista de nombres: ')\n",
        "  nombres = []\n",
        "  while True:\n",
        "    lol = input('Inserta un nombre: ')\n",
        "    nombres.append(lol)\n",
        "    value = input('¿Quieres insertar msá nombres? s/n')\n",
        "    if(value.lower()=='n'):\n",
        "      break\n",
        "  print('Busca un nombre en la lista anterior: ')\n",
        "  buscardo = input('Inserta el nombre de interés: ')\n",
        "  if buscardo in nombres:\n",
        "    print(f'{buscardo} fue encontrado!')\n",
        "  else:\n",
        "    print(f'{buscardo} NO fue encontrado')\n",
        "\n",
        "buscar()"
      ],
      "metadata": {
        "colab": {
          "base_uri": "https://localhost:8080/"
        },
        "id": "IYA8I0Ng9t0r",
        "outputId": "14bec265-b7d1-40d4-8511-ed12e6dd74ae"
      },
      "execution_count": 52,
      "outputs": [
        {
          "output_type": "stream",
          "name": "stdout",
          "text": [
            "Inserta una lista de nombres: \n",
            "Inserta un nombre: Carlos\n",
            "¿Quieres insertar msá nombres? s/ns\n",
            "Inserta un nombre: Carlota\n",
            "¿Quieres insertar msá nombres? s/ns\n",
            "Inserta un nombre: Lol\n",
            "¿Quieres insertar msá nombres? s/nn\n",
            "Busca un nombre en la lista anterior: \n",
            "Inserta el nombre de interés: Carlota\n",
            "Carlota fue encontrado!\n"
          ]
        }
      ]
    },
    {
      "cell_type": "code",
      "source": [
        "'''32. Crea una función que tome un nombre completo y una lista de empleados, busque el nombre completo en la lista y\n",
        "devuelve el puesto del empleado si está en la lista, de lo contrario, devuelve un mensaje indicando que la persona\n",
        "no trabaja aquí.\n",
        "'''\n",
        "def buscar_empleado():\n",
        "    empleados = {\n",
        "        'Juan Pérez': 'Gerente de Proyectos',\n",
        "        'María García': 'Analista de Datos',\n",
        "        'Pedro López': 'Desarrollador Senior',\n",
        "        'Ana Torres': 'Diseñadora UX/UI'\n",
        "    }\n",
        "\n",
        "    print(\"Lista de empleados disponible para buscar:\")\n",
        "    for nombre, puesto in empleados.items():\n",
        "        print(f\"- {nombre} ({puesto})\")\n",
        "\n",
        "    nombre_a_buscar = input(\"Ingresa el nombre completo del empleado que quieres buscar: \")\n",
        "\n",
        "    try:\n",
        "        puesto = empleados[nombre_a_buscar]\n",
        "        print(f\"¡{nombre_a_buscar} fue encontrado!\")\n",
        "        print(f\"Puesto: {puesto}\")\n",
        "    except KeyError:\n",
        "        print(f\"Lo siento, {nombre_a_buscar} no trabaja aquí.\")\n",
        "\n",
        "# Llama a la función para ejecutar el programa\n",
        "buscar_empleado()\n"
      ],
      "metadata": {
        "colab": {
          "base_uri": "https://localhost:8080/"
        },
        "id": "42KIgTLCB2ft",
        "outputId": "e3d0457d-4045-4837-ac97-e5e6f4735444"
      },
      "execution_count": 53,
      "outputs": [
        {
          "output_type": "stream",
          "name": "stdout",
          "text": [
            "Lista de empleados disponible para buscar:\n",
            "- Juan Pérez (Gerente de Proyectos)\n",
            "- María García (Analista de Datos)\n",
            "- Pedro López (Desarrollador Senior)\n",
            "- Ana Torres (Diseñadora UX/UI)\n",
            "Ingresa el nombre completo del empleado que quieres buscar: Irene\n",
            "Lo siento, Irene no trabaja aquí.\n"
          ]
        }
      ]
    },
    {
      "cell_type": "code",
      "source": [
        "'''33. Crea una función lambda que sume elementos correspondientes de dos listas dadas.\n",
        "'''\n",
        "\n",
        "sumar = lambda x, y : x+y\n",
        "\n",
        "lista1 = [2,3,4]\n",
        "lista2 = [3,7,8]\n",
        "\n",
        "list(map(sumar, lista1, lista2))"
      ],
      "metadata": {
        "colab": {
          "base_uri": "https://localhost:8080/"
        },
        "id": "FNqe_j5gERBt",
        "outputId": "f1589167-6330-45c2-cf69-a2ee3d7af20a"
      },
      "execution_count": 54,
      "outputs": [
        {
          "output_type": "execute_result",
          "data": {
            "text/plain": [
              "[5, 10, 12]"
            ]
          },
          "metadata": {},
          "execution_count": 54
        }
      ]
    },
    {
      "cell_type": "code",
      "source": [
        "'''34. Crea la clase Arbol , define un árbol genérico con un tronco y ramas como atributos. Los métodos disponibles son:\n",
        "crecer_tronco , nueva_rama , crecer_ramas , quitar_rama e info_arbol . El objetivo es implementar estos métodos para\n",
        "manipular la estructura del árbol.\n",
        "Código a seguir:\n",
        "1. Inicializar un árbol con un tronco de longitud 1 y una lista vacía de ramas.\n",
        "2. Implementar el método crecer_tronco para aumentar la longitud del tronco en una unidad.\n",
        "3. Implementar el método nueva_rama para agregar una nueva rama de longitud 1 a la lista de ramas.\n",
        "4. Implementar el método crecer_ramas para aumentar en una unidad la longitud de todas las ramas existentes.\n",
        "5. Implementar el método quitar_rama para eliminar una rama en una posición específica.\n",
        "6. Implementar el método\n",
        "info_arbol para devolver información sobre la longitud del tronco, el número de ramas y las longitudes de las\n",
        "mismas.\n",
        "\n",
        "'''\n",
        "\n",
        "class Arbol:\n",
        "  def __init__(self, tronco, ramas):\n",
        "    self.tronco = tronco\n",
        "    self.ramas = ramas\n",
        "\n",
        "  def crecer_tronco(self):\n",
        "    self.tronco+=1\n",
        "\n",
        "  def nueva_rama(self):\n",
        "    self.ramas.append(1)\n",
        "\n",
        "  def crecer_ramas(self):\n",
        "    lista = []\n",
        "    for i in self.ramas:\n",
        "      lista.append(i+1)\n",
        "    self.ramas = lista\n",
        "\n",
        "  def quitar_rama(self, posicion):\n",
        "    self.ramas.pop(posicion)\n",
        "\n",
        "  def info_arbol(self):\n",
        "    print(f'Longitud de tronco: {self.tronco}')\n",
        "    print(f'Lista de ramas: {self.ramas}')\n",
        "\n",
        "arbol = Arbol(1, [])\n",
        "\n",
        "arbol.info_arbol()\n",
        "\n",
        "arbol.crecer_tronco()\n",
        "\n",
        "arbol.info_arbol()\n",
        "\n",
        "arbol.nueva_rama()\n",
        "arbol.nueva_rama()\n",
        "\n",
        "arbol.info_arbol()\n",
        "\n",
        "arbol.crecer_ramas()\n",
        "\n",
        "arbol.info_arbol()\n",
        "\n",
        "arbol.quitar_rama(1)\n",
        "\n",
        "arbol.info_arbol()"
      ],
      "metadata": {
        "colab": {
          "base_uri": "https://localhost:8080/"
        },
        "id": "yFOrWxEZFDq5",
        "outputId": "9f42761c-7cfb-4f03-8ea6-ce0680fae2f1"
      },
      "execution_count": 62,
      "outputs": [
        {
          "output_type": "stream",
          "name": "stdout",
          "text": [
            "Longitud de tronco: 1\n",
            "Lista de ramas: []\n",
            "Longitud de tronco: 2\n",
            "Lista de ramas: []\n",
            "Longitud de tronco: 2\n",
            "Lista de ramas: [1, 1]\n",
            "Longitud de tronco: 2\n",
            "Lista de ramas: [2, 2]\n",
            "Longitud de tronco: 2\n",
            "Lista de ramas: [2]\n"
          ]
        }
      ]
    },
    {
      "cell_type": "code",
      "source": [
        "'''36. Crea la clase UsuarioBanco ,representa a un usuario de un banco con su nombre, saldo y si tiene o no cuenta\n",
        "corriente. Proporciona métodos para realizar operaciones como retirar dinero, transferir dinero desde otro usuario y\n",
        "agregar dinero al saldo.\n",
        "Código a seguir:\n",
        "1. Inicializar un usuario con su nombre, saldo y si tiene o no cuenta corriente mediante True y False .\n",
        "2. Implementar el método retirar_dinero para retirar dinero del saldo del usuario. Lanzará un error en caso de no\n",
        "poder hacerse.\n",
        "3. Implementar el método c para realizar una transferencia desde otro usuario al usuario actual.\n",
        "Lanzará un error en caso de no poder hacerse.\n",
        "4. Implementar el método agregar_dinero para agregar dinero al saldo del usuario.\n",
        "Caso de uso:\n",
        "1. Crear dos usuarios: \"Alicia\" con saldo inicial de 100 y \"Bob\" con saldo inicial de 50, ambos con cuenta corriente.\n",
        "PROYECTO LÓGICA: Katas de Python 3\n",
        "2. Agregar 20 unidades de saldo de \"Bob\".\n",
        "3. Hacer una transferencia de 80 unidades desde \"Bob\" a \"Alicia\".\n",
        "4. Retirar 50 unidades de saldo a \"Alicia\".\n",
        "'''\n",
        "\n",
        "class UsuarioBanco():\n",
        "  def __init__(self, nombre, saldo, cuenta):\n",
        "    self.nombre = nombre\n",
        "    self.saldo = saldo\n",
        "    self.cuenta = cuenta\n",
        "\n",
        "  def retirar_dinero(self, dineroRetirar):\n",
        "    if self.saldo>dineroRetirar:\n",
        "      self.saldo-=dineroRetirar\n",
        "    else:\n",
        "      print(\"No puedes retirar más dinero del que tienes...\")\n",
        "\n",
        "  def transferencia(self, otroCliente, dineroExterno):\n",
        "    if otroCliente.saldo>dineroExterno:\n",
        "      self.saldo+=dineroExterno\n",
        "    else:\n",
        "      print(f\"{otroCliente.nombre} no tiene suficiente dinero en sí...\")\n",
        "\n",
        "  def agregar_dinero(self, dineroExtra):\n",
        "    self.saldo += dineroExtra\n",
        "\n",
        "  def info(self):\n",
        "    print(f'Nombre: {self.nombre}')\n",
        "    print(f'Saldo: {self.saldo}')\n",
        "    print(f'Cuenta: {self.cuenta}')\n",
        "\n",
        "Alicia = UsuarioBanco('Alicia', 100, True)\n",
        "Bob = UsuarioBanco('Bob', 50, True)\n",
        "\n",
        "Bob.info()\n",
        "\n",
        "Bob.agregar_dinero(20)\n",
        "\n",
        "Bob.info()\n",
        "\n",
        "Alicia.info()\n",
        "\n",
        "Alicia.transferencia(Bob, 80)\n",
        "\n",
        "Alicia.info()\n",
        "\n",
        "Alicia.retirar_dinero(50)\n",
        "\n",
        "Alicia.info()"
      ],
      "metadata": {
        "colab": {
          "base_uri": "https://localhost:8080/"
        },
        "id": "AvUHNx8Nk_H5",
        "outputId": "52c78862-a1dd-4be4-d27f-ea153ac1ccf1"
      },
      "execution_count": 65,
      "outputs": [
        {
          "output_type": "stream",
          "name": "stdout",
          "text": [
            "Nombre: Bob\n",
            "Saldo: 50\n",
            "Cuenta: True\n",
            "Nombre: Bob\n",
            "Saldo: 70\n",
            "Cuenta: True\n",
            "Nombre: Alicia\n",
            "Saldo: 100\n",
            "Cuenta: True\n",
            "Bob no tiene suficiente dinero en sí...\n",
            "Nombre: Alicia\n",
            "Saldo: 100\n",
            "Cuenta: True\n",
            "Nombre: Alicia\n",
            "Saldo: 50\n",
            "Cuenta: True\n"
          ]
        }
      ]
    },
    {
      "cell_type": "code",
      "source": [
        "'''37. Crea una función llamada procesar_texto que procesa un texto según la opción especificada: contar_palabras ,\n",
        "reemplazar_palabras , eliminar_palabra . Estas opciones son otras funciones que tenemos que definir primero y llamar dentro\n",
        "de la función procesar_texto .\n",
        "Código a seguir:\n",
        "1. Crear una función contar_palabras para contar el número de veces que aparece cada palabra en el texto. Tiene\n",
        "que devolver un diccionario.\n",
        "2. Crear una función reemplazar_palabras para remplazar una palabra_original del texto por una palabra_nueva . Tiene\n",
        "que devolver el texto con el remplazo de palabras.\n",
        "3. Crear una función eliminar_palabra para eliminar una palabra del texto. Tiene que devolver el texto con la palabra\n",
        "eliminada.\n",
        "4. Crear la función procesar_texto que tome un texto, una opción(entre \"contar\", \"reemplazar\", \"eliminar\") y un\n",
        "número de argumentos variable según la opción indicada.\n",
        "Caso de uso:\n",
        "Comprueba el funcionamiento completo de la función procesar_texto\n",
        "'''\n",
        "\n",
        "def contar_palabras(texto):\n",
        "  return len(texto.split())\n",
        "\n",
        "def reemplazar_palabras(texto, palabra, nueva):\n",
        "  palabras = texto.split()\n",
        "  textoNuevo = ''\n",
        "  for i in palabras:\n",
        "    if i==palabra:\n",
        "      textoNuevo+=nueva+' '\n",
        "    else:\n",
        "      textoNuevo+=i+' '\n",
        "  return textoNuevo\n",
        "\n",
        "def eliminar_palabra(texto, palabra):\n",
        "  textoNuevo = ''\n",
        "  palabras = texto.split()\n",
        "  for i in palabras:\n",
        "    if i.lower().replace('.',\"\").replace(',',\"\").replace(';',\"\").replace(':',\"\")!=palabra.lower():\n",
        "      textoNuevo+=i+' '\n",
        "  return textoNuevo\n",
        "\n",
        "def procesar_texto(texto, opcion):\n",
        "  salida = texto\n",
        "  if opcion=='contar':\n",
        "    cantidad = contar_palabras(texto)\n",
        "    print(f'La canntidad de palabras es: {cantidad}')\n",
        "  elif opcion=='reemplazar':\n",
        "    lol = input('Introduce la palabra que quieres sustituir: ')\n",
        "    lel = input('Introduce la palabra nueva: ')\n",
        "    salida = reemplazar_palabras(texto, lol, lel)\n",
        "  elif opcion=='eliminar':\n",
        "    lol = input('Introduce la palabra que quieres eliminar: ')\n",
        "    salida = eliminar_palabra(texto, lol)\n",
        "  else:\n",
        "    print('Opción no válida')\n",
        "  print(f'El texto es: {salida}')\n",
        "\n",
        "historia = 'Érase una vez un mounstruo que se fue a su casa y no volvio... que pena por él, sinceramente.'\n",
        "procesar_texto(historia, \"contar\")\n",
        "procesar_texto(historia, 'reemplazar')\n",
        "procesar_texto(historia, 'eliminar')\n",
        "procesar_texto(historia, 'wakala')"
      ],
      "metadata": {
        "colab": {
          "base_uri": "https://localhost:8080/"
        },
        "id": "uQ5HbGmzs1rX",
        "outputId": "ad930d93-b3a8-489f-b287-54d8d35031a2"
      },
      "execution_count": 5,
      "outputs": [
        {
          "output_type": "stream",
          "name": "stdout",
          "text": [
            "La canntidad de palabras es: 19\n",
            "El texto es: Érase una vez un mounstruo que se fue a su casa y no volvio... que pena por él, sinceramente.\n",
            "Introduce la palabra que quieres sustituir: se\n",
            "Introduce la palabra nueva: AAAAAAAAAA\n",
            "El texto es: Érase una vez un mounstruo que AAAAAAAAAA fue a su casa y no volvio... que pena por él, sinceramente. \n",
            "Introduce la palabra que quieres eliminar: sinceramente\n",
            "El texto es: Érase una vez un mounstruo que se fue a su casa y no volvio... que pena por él, \n",
            "Opción no válida\n",
            "El texto es: Érase una vez un mounstruo que se fue a su casa y no volvio... que pena por él, sinceramente.\n"
          ]
        }
      ]
    },
    {
      "cell_type": "code",
      "source": [
        "'''38. Genera un programa que nos diga si es de noche, de día o tarde según la hora proporcionada por el usuario.\n",
        "'''\n",
        "\n",
        "formato = input('¿En que formato quieres la hora? (12/24): ')\n",
        "hora = int(input('Inserta la hora (sin minutos, solo la hora): '))\n",
        "\n",
        "if formato == '12':\n",
        "    meridiano = input('¿La hora que has puesto es am o pm? ').lower()\n",
        "    if meridiano == 'am':\n",
        "        if hora >= 6 and hora <= 11:\n",
        "            print('Es de día')\n",
        "        else: # 12 am to 5 am\n",
        "            print('Es de noche')\n",
        "    elif meridiano == 'pm':\n",
        "        if hora >= 1 and hora <= 7: # 1 pm to 7 pm\n",
        "            print('Es por la tarde')\n",
        "        else: # 8 pm to 11 pm and 12 pm\n",
        "            print('Es de noche')\n",
        "    else:\n",
        "        print('Formato de meridiano incorrecto.')\n",
        "\n",
        "elif formato == '24':\n",
        "    if hora >= 6 and hora <= 12:\n",
        "        print('Es de día por la mañana')\n",
        "    elif hora >= 13 and hora <= 20:\n",
        "        print('Es por la tarde')\n",
        "    else:\n",
        "        print('Es de noche')\n",
        "else:\n",
        "    print('Formato de hora incorrecto.')"
      ],
      "metadata": {
        "colab": {
          "base_uri": "https://localhost:8080/"
        },
        "id": "kBV-zydCxz5R",
        "outputId": "5f672bbc-a6e5-40e0-ba3c-ec063209ed2f"
      },
      "execution_count": 6,
      "outputs": [
        {
          "output_type": "stream",
          "name": "stdout",
          "text": [
            "¿En que formato quieres la hora? (12/24): 12\n",
            "Inserta la hora (sin minutos, solo la hora): 3\n",
            "¿La hora que has puesto es am o pm? am\n",
            "Es de noche\n"
          ]
        }
      ]
    },
    {
      "cell_type": "code",
      "source": [
        "'''39. Escribe un programa que determine qué calificación en texto tiene un alumno en base a su calificación numérica.\n",
        "Las reglas de calificación son:\n",
        "- 0 - 69 insuficiente\n",
        "- 70 - 79 bien\n",
        "- 80 - 89 muy bien\n",
        "- 90 - 100 excelente\n",
        "'''\n",
        "\n",
        "nota = int(input(\"Ingresa la calificación numérica: \"))\n",
        "\n",
        "if nota >= 90:\n",
        "    print(\"Excelente\")\n",
        "elif nota >= 80:\n",
        "    print(\"Muy bien\")\n",
        "elif nota >= 70:\n",
        "    print(\"Bien\")\n",
        "else:\n",
        "    print(\"Insuficiente\")"
      ],
      "metadata": {
        "colab": {
          "base_uri": "https://localhost:8080/"
        },
        "id": "0Nd13mdbC9gf",
        "outputId": "42035e88-a9e6-4d70-c2a0-28fef238b653"
      },
      "execution_count": 7,
      "outputs": [
        {
          "output_type": "stream",
          "name": "stdout",
          "text": [
            "Ingresa la calificación numérica: 5\n",
            "Insuficiente\n"
          ]
        }
      ]
    },
    {
      "cell_type": "code",
      "source": [
        "'''40. Escribe una función que tome dos parámetros: figura (una cadena que puede ser \"rectangulo\" , \"circulo\" o\n",
        "\"triangulo\" ) y datos (una tupla con los datos necesarios para calcular el área de la figura).\n",
        "'''\n",
        "\n",
        "import math\n",
        "\n",
        "def calcular_area(figura, datos):\n",
        "    if figura == \"rectangulo\":\n",
        "        base, altura = datos\n",
        "        return base * altura\n",
        "    elif figura == \"circulo\":\n",
        "        radio = datos[0]\n",
        "        return math.pi * radio**2\n",
        "    elif figura == \"triangulo\":\n",
        "        base, altura = datos\n",
        "        return (base * altura) / 2\n",
        "    else:\n",
        "        return \"Figura no reconocida\"\n",
        "\n",
        "area_rectangulo = calcular_area(\"rectangulo\", (5, 10))\n",
        "print(f\"Área del rectángulo: {area_rectangulo}\")\n",
        "\n",
        "area_circulo = calcular_area(\"circulo\", (7,))\n",
        "print(f\"Área del círculo: {area_circulo}\")\n",
        "\n",
        "area_triangulo = calcular_area(\"triangulo\", (6, 8))\n",
        "print(f\"Área del triángulo: {area_triangulo}\")\n",
        "\n",
        "area_desconocida = calcular_area(\"cuadrado\", (4, 4))\n",
        "print(f\"Área de figura no reconocida: {area_desconocida}\")"
      ],
      "metadata": {
        "colab": {
          "base_uri": "https://localhost:8080/"
        },
        "id": "201RNimgHNZc",
        "outputId": "f385a6c5-f9f3-4e67-97a8-190af7eccf61"
      },
      "execution_count": 9,
      "outputs": [
        {
          "output_type": "stream",
          "name": "stdout",
          "text": [
            "Área del rectángulo: 50\n",
            "Área del círculo: 153.93804002589985\n",
            "Área del triángulo: 24.0\n",
            "Área de figura no reconocida: Figura no reconocida\n"
          ]
        }
      ]
    },
    {
      "cell_type": "code",
      "source": [
        "'''41. En este ejercicio, se te pedirá que escribas un programa en Python que utilice condicionales para determinar el\n",
        "monto final de una compra en una tienda en línea, después de aplicar un descuento. El programa debe hacer lo\n",
        "siguiente:\n",
        "1. Solicita al usuario que ingrese el precio original de un artículo.\n",
        "2. Pregunta al usuario si tiene un cupón de descuento (respuesta sí o no).\n",
        "3. Si el usuario responde que sí, solicita que ingrese el valor del cupón de descuento.\n",
        "4. Aplica el descuento al precio original del artículo, siempre y cuando el valor del cupón sea válido (es decir, mayor\n",
        "a cero). Por ejemplo, descuento de 15€.\n",
        "5. Muestra el precio final de la compra, teniendo en cuenta el descuento aplicado o sin él.\n",
        "6. Recuerda utilizar estructuras de control de flujo como if, elif y else para llevar a cabo estas acciones en tu\n",
        "programa de Python.'''\n",
        "\n",
        "precio_original = float(input(\"Ingresa el precio original del artículo: \"))\n",
        "tiene_cupon = input(\"¿Tienes un cupón de descuento? (si/no): \").lower()\n",
        "\n",
        "precio_final = precio_original\n",
        "\n",
        "if tiene_cupon == \"si\":\n",
        "    valor_cupon = float(input(\"Ingresa el valor del cupón de descuento: \"))\n",
        "    if valor_cupon > 0:\n",
        "        precio_final = precio_original - valor_cupon\n",
        "        if precio_final < 0:\n",
        "            precio_final = 0\n",
        "    else:\n",
        "        print(\"El valor del cupón no es válido. No se aplicará descuento.\")\n",
        "\n",
        "print(f\"El precio final de la compra es: {precio_final:.2f}€\")"
      ],
      "metadata": {
        "colab": {
          "base_uri": "https://localhost:8080/"
        },
        "id": "DXEHzJgTHjYR",
        "outputId": "eb66ad67-aa13-462b-8595-504e57ac9b0f"
      },
      "execution_count": 10,
      "outputs": [
        {
          "output_type": "stream",
          "name": "stdout",
          "text": [
            "Ingresa el precio original del artículo: 34\n",
            "¿Tienes un cupón de descuento? (si/no): si\n",
            "Ingresa el valor del cupón de descuento: 23\n",
            "El precio final de la compra es: 11.00€\n"
          ]
        }
      ]
    },
    {
      "cell_type": "code",
      "source": [],
      "metadata": {
        "id": "bTG5D87fH6pn"
      },
      "execution_count": null,
      "outputs": []
    }
  ]
}